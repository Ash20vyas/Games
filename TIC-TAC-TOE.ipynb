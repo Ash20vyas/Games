{
 "cells": [
  {
   "cell_type": "markdown",
   "metadata": {},
   "source": [
    "# Tic Tac Toe"
   ]
  },
  {
   "cell_type": "code",
   "execution_count": 1,
   "metadata": {},
   "outputs": [],
   "source": [
    "players=['','X','O']\n",
    "Board=[' ']*10\n",
    "score=['',0,0]"
   ]
  },
  {
   "cell_type": "code",
   "execution_count": 2,
   "metadata": {},
   "outputs": [],
   "source": [
    "from IPython.display import clear_output\n",
    "\n",
    "def display_board(board):\n",
    "    \n",
    "    clear_output()\n",
    "    print(f'   |   |')\n",
    "    print(f' {board[7]} | {board[8]} | {board[9]}')\n",
    "    print(f'---|---|---')\n",
    "    print(f' {board[4]} | {board[5]} | {board[6]}')\n",
    "    print(f'---|---|---')\n",
    "    print(f' {board[1]} | {board[2]} | {board[3]}')\n",
    "    print(f'   |   |')"
   ]
  },
  {
   "cell_type": "code",
   "execution_count": 3,
   "metadata": {},
   "outputs": [],
   "source": [
    "def player_input():\n",
    "    play1=' '\n",
    "    while play1 not in  ('X','O'):\n",
    "        play1=input('Player 1 : Choose either \\'X\\' or \\'O\\' : ').upper()\n",
    "    if play1=='X':\n",
    "        play2='O'\n",
    "    else:\n",
    "        play2='X'\n",
    "    return (play1,play2)"
   ]
  },
  {
   "cell_type": "code",
   "execution_count": 4,
   "metadata": {},
   "outputs": [],
   "source": [
    "def place_marker(board, marker, position):\n",
    "    board[position]=marker"
   ]
  },
  {
   "cell_type": "code",
   "execution_count": 5,
   "metadata": {},
   "outputs": [],
   "source": [
    "def win_check(board, mark):\n",
    "    return ((board[1]==board[2]==board[3]==mark) or \n",
    "    (board[4] ==  board[5] ==  board[6] == mark) or \n",
    "    (board[7] ==  board[8] ==  board[9] == mark) or\n",
    "    (board[7] ==  board[4] ==  board[1] == mark) or \n",
    "    (board[8] ==  board[5] ==  board[2] == mark) or\n",
    "    (board[9] ==  board[6] ==  board[3] == mark) or\n",
    "    (board[7] ==  board[5] ==  board[3] == mark) or\n",
    "    (board[9] ==  board[5] ==  board[1] == mark))"
   ]
  },
  {
   "cell_type": "code",
   "execution_count": 6,
   "metadata": {},
   "outputs": [],
   "source": [
    "import random\n",
    "\n",
    "def choose_first():\n",
    "    return random.choice((-1,1))"
   ]
  },
  {
   "cell_type": "code",
   "execution_count": 7,
   "metadata": {},
   "outputs": [],
   "source": [
    "def space_check(board, position):\n",
    "    return board[position]==' '"
   ]
  },
  {
   "cell_type": "code",
   "execution_count": 8,
   "metadata": {},
   "outputs": [],
   "source": [
    "def full_board_check(board):\n",
    "    return not ' ' in board[1:]"
   ]
  },
  {
   "cell_type": "code",
   "execution_count": 9,
   "metadata": {},
   "outputs": [],
   "source": [
    "def player_choice(board,player):\n",
    "    pos = 0\n",
    "    while pos not in range(1,11) or not space_check(board,pos):\n",
    "        try:\n",
    "            pos = int(input(f'Player{player} Enter the position : '))\n",
    "        except:\n",
    "            print('Sorry try again')\n",
    "    return pos"
   ]
  },
  {
   "cell_type": "code",
   "execution_count": 10,
   "metadata": {},
   "outputs": [],
   "source": [
    "def replay():\n",
    "    return input('Do you want to play again (Yes/No) : ').lower()=='yes'"
   ]
  },
  {
   "cell_type": "code",
   "execution_count": 11,
   "metadata": {},
   "outputs": [],
   "source": [
    "def gridfor():\n",
    "    print(f'   |   |')\n",
    "    print(f' 7 | 8 | 9')\n",
    "    print(f'---|---|---')\n",
    "    print(f' 4 | 5 | 6')\n",
    "    print(f'---|---|---')\n",
    "    print(f' 1 | 2 | 3')\n",
    "    print(f'   |   |')\n"
   ]
  },
  {
   "cell_type": "code",
   "execution_count": 12,
   "metadata": {},
   "outputs": [],
   "source": [
    "def scorepr():\n",
    "    print (f'Player 1 : {score[1]}')\n",
    "    print (f'Player 2 : {score[2]}')"
   ]
  },
  {
   "cell_type": "code",
   "execution_count": 14,
   "metadata": {},
   "outputs": [
    {
     "name": "stdout",
     "output_type": "stream",
     "text": [
      "   |   |\n",
      " X | O | O\n",
      "---|---|---\n",
      " X | O |  \n",
      "---|---|---\n",
      " O |   | X\n",
      "   |   |\n",
      "Congratulations! Player O wins!\n",
      "Do you want to play again (Yes/No) : no\n",
      "\n",
      "FINAL SCORE :\n",
      "SCORE BOARD :\n",
      "Player 1 : 0\n",
      "Player 2 : 1\n"
     ]
    }
   ],
   "source": [
    "print('Welcome to Tic Tac Toe!')\n",
    "print ('\\ngrid format : ')\n",
    "gridfor()\n",
    "x=1\n",
    "while True:\n",
    "    print ('\\nSCORE BOARD :')\n",
    "    scorepr()\n",
    "    ind = choose_first()\n",
    "    player = players[ind]\n",
    "    print(f'This is round {x}, Player {player} will go first!')\n",
    "    ongoing = True\n",
    "    input('Hit Enter to continue')\n",
    "    while ongoing:\n",
    "        display_board(Board)\n",
    "        print('\\n')\n",
    "        gridfor()\n",
    "        position = player_choice(Board,player)\n",
    "        place_marker(Board,player,position)\n",
    "        \n",
    "        if win_check(Board, player):\n",
    "            display_board(Board)\n",
    "            print('Congratulations! Player '+player+' wins!')\n",
    "            score[ind]+=1 \n",
    "            ongoing = False\n",
    "        else:\n",
    "            if full_board_check(Board):\n",
    "                display_board(Board)\n",
    "                print('The game is a draw!')\n",
    "                break\n",
    "            else:\n",
    "                ind *= -1\n",
    "                player = players[ind]\n",
    "                clear_output()\n",
    "                \n",
    "    Board = [' '] * 10\n",
    "    x+=1\n",
    "    \n",
    "    if not replay():\n",
    "        break\n",
    "print('\\nFINAL SCORE :')\n",
    "scorepr()\n",
    "score=['',0,0]"
   ]
  }
 ],
 "metadata": {
  "kernelspec": {
   "display_name": "Python 3",
   "language": "python",
   "name": "python3"
  },
  "language_info": {
   "codemirror_mode": {
    "name": "ipython",
    "version": 3
   },
   "file_extension": ".py",
   "mimetype": "text/x-python",
   "name": "python",
   "nbconvert_exporter": "python",
   "pygments_lexer": "ipython3",
   "version": "3.8.0"
  }
 },
 "nbformat": 4,
 "nbformat_minor": 1
}
